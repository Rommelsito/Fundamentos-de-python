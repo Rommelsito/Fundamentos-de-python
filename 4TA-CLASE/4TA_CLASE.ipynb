{
 "cells": [
  {
   "cell_type": "markdown",
   "metadata": {},
   "source": [
    "#### Diccionarios "
   ]
  },
  {
   "cell_type": "code",
   "execution_count": 11,
   "metadata": {},
   "outputs": [
    {
     "data": {
      "text/plain": [
       "['Tomate', 'Cebolla']"
      ]
     },
     "execution_count": 11,
     "metadata": {},
     "output_type": "execute_result"
    }
   ],
   "source": [
    "lista1 = [\"Tomate\",\"Cebolla\",\"Pimenton\"]\n",
    "len(lista1)\n",
    "lista1[:2]"
   ]
  },
  {
   "cell_type": "code",
   "execution_count": 14,
   "metadata": {},
   "outputs": [
    {
     "data": {
      "text/plain": [
       "['Pimenton']"
      ]
     },
     "execution_count": 14,
     "metadata": {},
     "output_type": "execute_result"
    }
   ],
   "source": [
    "lista1 = [\"Tomate\",\"Cebolla\",\"Pimenton\"]\n",
    "lista1[2:]"
   ]
  },
  {
   "cell_type": "code",
   "execution_count": 48,
   "metadata": {},
   "outputs": [],
   "source": [
    "dicc_1 = {\n",
    "    'Carmen' : 1234,\n",
    "    'Jose' : 4321,\n",
    "    'Pedro' : 5678,\n",
    "    'ruperto': {'netflix':123,'espn':456,'hbo':789}\n",
    "}"
   ]
  },
  {
   "cell_type": "code",
   "execution_count": 49,
   "metadata": {},
   "outputs": [
    {
     "data": {
      "text/plain": [
       "123"
      ]
     },
     "execution_count": 49,
     "metadata": {},
     "output_type": "execute_result"
    }
   ],
   "source": [
    "dicc_1['ruperto']['netflix']"
   ]
  },
  {
   "cell_type": "code",
   "execution_count": 50,
   "metadata": {},
   "outputs": [
    {
     "data": {
      "text/plain": [
       "4321"
      ]
     },
     "execution_count": 50,
     "metadata": {},
     "output_type": "execute_result"
    }
   ],
   "source": [
    "#Para acceder a un elemento del diccionario accedo a travez de su clave, en este caso 'Jose' es una clave\n",
    "dicc_1['Jose']"
   ]
  },
  {
   "cell_type": "code",
   "execution_count": 52,
   "metadata": {},
   "outputs": [],
   "source": [
    "# Borrar un elemento del diccionario usamos la palbra reservada del e indico la clave que quiero eliminar\n",
    "del dicc_1['Jose']"
   ]
  },
  {
   "cell_type": "code",
   "execution_count": 54,
   "metadata": {},
   "outputs": [
    {
     "data": {
      "text/plain": [
       "{'Carmen': 1234, 'ruperto': {'netflix': 123, 'espn': 456, 'hbo': 789}}"
      ]
     },
     "execution_count": 54,
     "metadata": {},
     "output_type": "execute_result"
    }
   ],
   "source": [
    "dicc_1"
   ]
  },
  {
   "cell_type": "code",
   "execution_count": 55,
   "metadata": {},
   "outputs": [],
   "source": [
    "#Para agregar un elemnto del diccionario \n",
    "dicc_1['josefino'] = 7923"
   ]
  },
  {
   "cell_type": "code",
   "execution_count": 56,
   "metadata": {},
   "outputs": [
    {
     "data": {
      "text/plain": [
       "{'Carmen': 1234,\n",
       " 'ruperto': {'netflix': 123, 'espn': 456, 'hbo': 789},\n",
       " 'josefino': 7923}"
      ]
     },
     "execution_count": 56,
     "metadata": {},
     "output_type": "execute_result"
    }
   ],
   "source": [
    "dicc_1"
   ]
  },
  {
   "cell_type": "code",
   "execution_count": 70,
   "metadata": {},
   "outputs": [],
   "source": [
    "#Conjunto / set\n",
    "conjunto1 = ['Rommel','Jose','Antonio','Rommel','Jose','Rommel']\n"
   ]
  },
  {
   "cell_type": "code",
   "execution_count": 73,
   "metadata": {},
   "outputs": [
    {
     "name": "stdout",
     "output_type": "stream",
     "text": [
      "['Rommel', 'Jose', 'Antonio', 'Rommel', 'Jose', 'Rommel']\n",
      "6\n"
     ]
    }
   ],
   "source": [
    "print(conjunto1)\n",
    "print(len(conjunto1))"
   ]
  },
  {
   "cell_type": "code",
   "execution_count": null,
   "metadata": {},
   "outputs": [],
   "source": [
    "# Copia de un diccionario\n",
    "#diccionario base 0\n",
    "dict_0 = dicc_1.copy() #forma de hacer una copia de un diccionario"
   ]
  },
  {
   "cell_type": "code",
   "execution_count": 61,
   "metadata": {},
   "outputs": [
    {
     "data": {
      "text/plain": [
       "{'Carmen': 1234,\n",
       " 'ruperto': {'netflix': 123, 'espn': 456, 'hbo': 789},\n",
       " 'josefino': 7923}"
      ]
     },
     "execution_count": 61,
     "metadata": {},
     "output_type": "execute_result"
    }
   ],
   "source": [
    "dict_0"
   ]
  },
  {
   "cell_type": "code",
   "execution_count": 67,
   "metadata": {},
   "outputs": [
    {
     "name": "stdout",
     "output_type": "stream",
     "text": [
      "Claves:  dict_keys(['Carmen', 'ruperto', 'josefino'])\n",
      "Valores:  dict_values([1234, {'netflix': 123, 'espn': 456, 'hbo': 789}, 7923])\n"
     ]
    }
   ],
   "source": [
    "print(\"Claves: \",dict_0.keys())\n",
    "print(\"Valores: \", dict_0.values())"
   ]
  },
  {
   "cell_type": "code",
   "execution_count": 76,
   "metadata": {},
   "outputs": [],
   "source": [
    "# Actualizar el valor de una clave\n",
    "dict_0.update({\n",
    "    \"Carmen\" : 2509,\n",
    "})"
   ]
  },
  {
   "cell_type": "code",
   "execution_count": 78,
   "metadata": {},
   "outputs": [
    {
     "data": {
      "text/plain": [
       "2509"
      ]
     },
     "execution_count": 78,
     "metadata": {},
     "output_type": "execute_result"
    }
   ],
   "source": [
    "dict_0[\"Carmen\"]"
   ]
  },
  {
   "cell_type": "markdown",
   "metadata": {},
   "source": [
    "##### Funciones"
   ]
  },
  {
   "cell_type": "code",
   "execution_count": 106,
   "metadata": {},
   "outputs": [
    {
     "data": {
      "text/plain": [
       "6"
      ]
     },
     "execution_count": 106,
     "metadata": {},
     "output_type": "execute_result"
    }
   ],
   "source": [
    "\n",
    "#Esta funciona suma dos numero enteros\n",
    "def nombre_fun(var1 = 2, var2 = 4):\n",
    "    \"\"\"\n",
    "    Esta funcion suma 2 numeros\n",
    "    var1: int\n",
    "    varr: int\n",
    "    return: int\n",
    "    \"\"\"\n",
    "    suma = var1 +  var2\n",
    "    return suma\n",
    "nombre_fun()"
   ]
  },
  {
   "cell_type": "code",
   "execution_count": 103,
   "metadata": {},
   "outputs": [],
   "source": [
    "def resta_dos(num1:int, num2:int):\n",
    "    \"\"\"\n",
    "    Esta funcion resta 2 numeros\n",
    "    var1: int\n",
    "    varr: int\n",
    "    return: int\n",
    "    \"\"\"\n",
    "    resultado = num1 - num2\n",
    "    return resultado"
   ]
  },
  {
   "cell_type": "code",
   "execution_count": 105,
   "metadata": {},
   "outputs": [
    {
     "data": {
      "text/plain": [
       "5"
      ]
     },
     "execution_count": 105,
     "metadata": {},
     "output_type": "execute_result"
    }
   ],
   "source": [
    "resta_dos(num1=10, num2=5)"
   ]
  },
  {
   "cell_type": "code",
   "execution_count": 108,
   "metadata": {},
   "outputs": [
    {
     "name": "stdout",
     "output_type": "stream",
     "text": [
      "El primer numero 4 es menor 10\n",
      "Ambos numeros son diferentes\n"
     ]
    }
   ],
   "source": [
    "def funcion(para1 = 4, para2 = 10):\n",
    "    if para1 < para2:\n",
    "        print(\"El primer numero\", para1,\"es menor a \", para2)\n",
    "    if para1 != para2:\n",
    "        print(\"Ambos numeros son diferentes\")\n",
    "funcion()"
   ]
  },
  {
   "cell_type": "code",
   "execution_count": 125,
   "metadata": {},
   "outputs": [],
   "source": [
    "def multi_dos_positivos(num1 , num2):\n",
    "\n",
    "    if num1 > 0 and num2 > 0:\n",
    "        resultado = num1 * num2\n",
    "        return resultado\n",
    "    else:\n",
    "        print(\"num1 o num2 deben ser mayo a 0, revisar\")"
   ]
  },
  {
   "cell_type": "code",
   "execution_count": 126,
   "metadata": {},
   "outputs": [
    {
     "name": "stdout",
     "output_type": "stream",
     "text": [
      "num1 o num2 deben ser mayo a 0, revisar\n"
     ]
    }
   ],
   "source": [
    "multi_dos_positivos(-2,5)"
   ]
  }
 ],
 "metadata": {
  "kernelspec": {
   "display_name": "Python 3",
   "language": "python",
   "name": "python3"
  },
  "language_info": {
   "codemirror_mode": {
    "name": "ipython",
    "version": 3
   },
   "file_extension": ".py",
   "mimetype": "text/x-python",
   "name": "python",
   "nbconvert_exporter": "python",
   "pygments_lexer": "ipython3",
   "version": "3.12.1"
  }
 },
 "nbformat": 4,
 "nbformat_minor": 2
}
