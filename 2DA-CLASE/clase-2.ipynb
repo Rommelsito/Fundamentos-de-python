{
 "cells": [
  {
   "cell_type": "markdown",
   "metadata": {},
   "source": [
    "Fundamentos de Python"
   ]
  },
  {
   "cell_type": "code",
   "execution_count": 3,
   "metadata": {},
   "outputs": [
    {
     "name": "stdout",
     "output_type": "stream",
     "text": [
      "Hello World\n"
     ]
    }
   ],
   "source": [
    "print(\"Hello World\")"
   ]
  },
  {
   "cell_type": "markdown",
   "metadata": {},
   "source": [
    "Variables de Python"
   ]
  },
  {
   "cell_type": "code",
   "execution_count": null,
   "metadata": {},
   "outputs": [],
   "source": [
    "name = \"Rommel\"\n",
    "Name = \"Rommel\" #Llamar una variable con mayusculas no es una buena practica\n",
    "\n",
    "first_name = \"Rommel\"\n",
    "fn = \"Rommel\" #No es una buena practica hacer constracciones\n",
    "#first_name = \"Rommel\"\n",
    "\n",
    "#Anomalias malas practicas\n",
    "FirstName = \"Rommel\"\n",
    "First_Name = \"Rommel\"\n",
    "First_name = \"Rommel\"\n",
    "# first.name = \"Rommel\"  #Otra mala practica es poner punto en nuestras variables\n",
    "\n",
    "#Revisar el pep 8: Guia de estilos"
   ]
  },
  {
   "cell_type": "code",
   "execution_count": 21,
   "metadata": {},
   "outputs": [
    {
     "name": "stdout",
     "output_type": "stream",
     "text": [
      "<class 'int'>\n",
      "<class 'int'>\n",
      "<class 'float'>\n",
      "<class 'str'>\n",
      "<class 'bool'>\n"
     ]
    }
   ],
   "source": [
    "#Python funciona como calculadora.\n",
    "# int: enteros\n",
    "# float: decimales\n",
    "# str: cadena de texto\n",
    "# boolean: verdadero o falso \n",
    "\n",
    "age = 20\n",
    "weight = 63\n",
    "hight = 1.70\n",
    "name = \"Rommel\"\n",
    "boolean = True\n",
    "\n",
    "print(type(age))\n",
    "print(type(weight))\n",
    "print(type(hight))\n",
    "print(type(name))\n",
    "print(type(boolean))\n"
   ]
  },
  {
   "cell_type": "code",
   "execution_count": 23,
   "metadata": {},
   "outputs": [
    {
     "name": "stdout",
     "output_type": "stream",
     "text": [
      "El tipo de dato de altura es <class 'int'>\n",
      "El tipo de dato del peso es <class 'int'>\n",
      "El tipo de dato de la altura es <class 'float'>\n",
      "El tipo de dato del name es <class 'str'>\n",
      "El tipo de dato del boolean es <class 'bool'>\n"
     ]
    }
   ],
   "source": [
    "#Formatos en print\n",
    "\n",
    "age = 20\n",
    "weight = 63\n",
    "hight = 1.70\n",
    "name = \"Rommel\"\n",
    "boolean = True\n",
    "\n",
    "print(\"El tipo de dato de altura es\", type(age))\n",
    "print(\"El tipo de dato del peso es\", type(weight))\n",
    "print(\"El tipo de dato de la altura es\", type(hight))\n",
    "print(\"El tipo de dato del name es\", type(name))\n",
    "print(\"El tipo de dato del boolean es\", type(boolean))\n"
   ]
  },
  {
   "cell_type": "code",
   "execution_count": 28,
   "metadata": {},
   "outputs": [
    {
     "name": "stdout",
     "output_type": "stream",
     "text": [
      "hight <class 'float'>\n",
      "weight <class 'float'>\n"
     ]
    }
   ],
   "source": [
    "#Conversion de datos\n",
    "\n",
    "age = float(age)\n",
    "type(age)\n",
    "\n",
    "hight = float(hight)\n",
    "print(\"hight\", type(hight))\n",
    "\n",
    "weight = float(weight)\n",
    "print(\"weight\", type(weight))"
   ]
  }
 ],
 "metadata": {
  "kernelspec": {
   "display_name": "Python 3",
   "language": "python",
   "name": "python3"
  },
  "language_info": {
   "codemirror_mode": {
    "name": "ipython",
    "version": 3
   },
   "file_extension": ".py",
   "mimetype": "text/x-python",
   "name": "python",
   "nbconvert_exporter": "python",
   "pygments_lexer": "ipython3",
   "version": "3.12.1"
  }
 },
 "nbformat": 4,
 "nbformat_minor": 2
}
